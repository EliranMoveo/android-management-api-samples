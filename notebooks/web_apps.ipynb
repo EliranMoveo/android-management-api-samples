{
  "nbformat": 4,
  "nbformat_minor": 0,
  "metadata": {
    "colab": {
      "name": "web_apps.ipynb",
      "version": "0.3.2",
      "provenance": [],
      "private_outputs": true,
      "collapsed_sections": [],
      "toc_visible": true
    },
    "kernelspec": {
      "display_name": "Python 3",
      "name": "python3"
    }
  },
  "cells": [
    {
      "metadata": {
        "colab_type": "text",
        "id": "lbI8y3v1G6OM"
      },
      "cell_type": "markdown",
      "source": [
        "#### Copyright 2019 Google LLC.\n",
        "\n",
        "Licensed under the Apache License, Version 2.0 (the \"License\");"
      ]
    },
    {
      "metadata": {
        "colab_type": "code",
        "id": "JxL-8R6KHRtK",
        "colab": {}
      },
      "cell_type": "code",
      "source": [
        "# Licensed under the Apache License, Version 2.0 (the \"License\");\n",
        "# you may not use this file except in compliance with the License.\n",
        "# You may obtain a copy of the License at\n",
        "\n",
        "# https://www.apache.org/licenses/LICENSE-2.0\n",
        "\n",
        "# Unless required by applicable law or agreed to in writing, software\n",
        "# distributed under the License is distributed on an \"AS IS\" BASIS,\n",
        "# WITHOUT WARRANTIES OR CONDITIONS OF ANY KIND, either express or implied.\n",
        "# See the License for the specific language governing permissions and\n",
        "# limitations under the License."
      ],
      "execution_count": 0,
      "outputs": []
    },
    {
      "metadata": {
        "colab_type": "text",
        "id": "3Sf3qQL9CrIG"
      },
      "cell_type": "markdown",
      "source": [
        "# Android Management API - Quickstart for Web Apps\n",
        "\n",
        "This notebook shows you how to create and manage web apps with the Android Management API. \n",
        "It is assumed that you have worked through the [general Quickstart](https://developers.google.com/android/management/quickstart) and are therefore familiar with how to use this colab notebook and already have a cloud project, test enterprise, and provisioned device.\n",
        "\n",
        "\n",
        "## Authenticating\n",
        "To create and access resources, you need to authenticate with an account that has edit rights over your project. To start the authentication flow, **run the cell below**."
      ]
    },
    {
      "metadata": {
        "colab_type": "text",
        "id": "n3FaCG1wJAO7"
      },
      "cell_type": "markdown",
      "source": [
        ""
      ]
    },
    {
      "metadata": {
        "colab_type": "code",
        "id": "8myK1D6uy7HR",
        "colab": {}
      },
      "cell_type": "code",
      "source": [
        "import json\n",
        "from apiclient.discovery import build\n",
        "from google_auth_oauthlib.flow import InstalledAppFlow\n",
        "import pprint\n",
        "\n",
        "# This is a public OAuth config that you can use to run this guide.\n",
        "# However, use different credentials when building your own solution.\n",
        "CLIENT_CONFIG = {\n",
        "    'installed': {\n",
        "        'client_id':'882252295571-uvkkfelq073vq73bbq9cmr0rn8bt80ee.apps.googleusercontent.com',\n",
        "        'client_secret': 'S2QcoBe0jxNLUoqnpeksCLxI',\n",
        "        'auth_uri':'https://accounts.google.com/o/oauth2/auth',\n",
        "        'token_uri':'https://accounts.google.com/o/oauth2/token'\n",
        "    }\n",
        "}\n",
        "SCOPES = ['https://www.googleapis.com/auth/androidmanagement']\n",
        "\n",
        "# Run the OAuth flow.\n",
        "flow = InstalledAppFlow.from_client_config(CLIENT_CONFIG, SCOPES)\n",
        "credentials = flow.run_console()\n",
        "\n",
        "# Create the API client.\n",
        "androidmanagement = build('androidmanagement', 'v1', credentials=credentials)\n",
        "\n",
        "print('\\nAuthentication succeeded.')\n",
        "\n",
        "# To improve the readability of deeply nested data structures, we create a \n",
        "# helper function to pretty print a result:\n",
        "prettyprint = pprint.PrettyPrinter(indent=4).pprint\n"
      ],
      "execution_count": 0,
      "outputs": []
    },
    {
      "metadata": {
        "colab_type": "text",
        "id": "bsnuDBT7JQ9O"
      },
      "cell_type": "markdown",
      "source": [
        "## Declare your enterprise\n",
        "In the [general Quickstart](https://developers.google.com/android/management/quickstart) you already created a test enterprise which will be used here."
      ]
    },
    {
      "metadata": {
        "colab_type": "code",
        "id": "R4rNq_O_BNBJ",
        "colab": {}
      },
      "cell_type": "code",
      "source": [
        "# Paste your enterprise name here.\n",
        "# It should be of the format 'enterprises/LC...'\n",
        "enterprise_name = ''"
      ],
      "execution_count": 0,
      "outputs": []
    },
    {
      "metadata": {
        "id": "HkBhR0EiVvYW",
        "colab_type": "text"
      },
      "cell_type": "markdown",
      "source": [
        "# Create your first web app\n",
        "\n",
        "To create a web app you need just a title and a destination url, plus the display format (the format can be one of `MINIMAL_UI`, `STANDALONE`, or `FULL_SCREEN`).\n",
        "\n",
        "## Icon considerations\n",
        "While an icon is optional, it's best practice to always specify a meaningful icon for a web app. Like a title, an icon helps users identify an app. Google applies the same fixed static icon for all web apps that don't have a specified icon.\n",
        "The icon data needs to be encoded in base64url (see [RFC 4648, section-5](https://tools.ietf.org/html/rfc4648#section-5)).\n",
        "\n",
        "It should be a square (or near-square) shape, ideally around 512x512 pixels.\n"
      ]
    },
    {
      "metadata": {
        "id": "Vyg8dItnWFpa",
        "colab_type": "code",
        "colab": {}
      },
      "cell_type": "code",
      "source": [
        "import base64\n",
        "import urllib.request\n",
        "\n",
        "# A useful picture found on the Wikipedia page:\n",
        "icon_url = 'https://en.m.wikipedia.org/wiki/Donald_Duck#/media/File%3ADonald_Duck_-_temper.png'\n",
        "\n",
        "icon_raw_data = urllib.request.urlopen(icon_url).read()\n",
        "icon_encoded_data = base64.urlsafe_b64encode(icon_raw_data)\n",
        "\n",
        "web_app = {\n",
        "    \"title\": \"Donald Duck\",\n",
        "    \"startUrl\": \"https://en.m.wikipedia.org/wiki/Donald_Duck\",\n",
        "    \"displayMode\": \"MINIMAL_UI\"\n",
        "    \"icons\": [\n",
        "      {\n",
        "        \"imageData\": icon_encoded_data\n",
        "      }\n",
        "    ]\n",
        "}\n",
        "\n",
        "result = androidmanagement.enterprises().webApps().create(\n",
        "    parent=enterprise_name,\n",
        "    body=web_app\n",
        ").execute()\n",
        "\n",
        "# Take note of the app's name (which is it's id) for future operations:\n",
        "web_app_name = result['name']\n",
        "\n",
        "prettyprint(result)"
      ],
      "execution_count": 0,
      "outputs": []
    },
    {
      "metadata": {
        "id": "kKeHN5yzo09F",
        "colab_type": "text"
      },
      "cell_type": "markdown",
      "source": [
        "The result of the create call basically mirrors its inputs but with the icon data and the name filled in.\n",
        "\n",
        "For later use, the `name` component of the result is the imporant piece of information, which should be extracted."
      ]
    },
    {
      "metadata": {
        "id": "_9uLoHmVs3wi",
        "colab_type": "text"
      },
      "cell_type": "markdown",
      "source": [
        "# Distributing the web app\n",
        "\n",
        "Once a web app is created, it can be used just like a normal app, e.g. added to a policy. Assuming you already used the policy `/policies/policy1` from the [general Quickstart](https://developers.google.com/android/management/quickstart) when you set up the test device, we will use that name.\n",
        "\n",
        "**Important**: For a device to support web apps, Google Chrome must be installed. When distributing web apps, ensure that Google Chrome (`com.android.chrome`) is always included in a device's policy.\n",
        "\n",
        "*Note*: the other APIs operate on package names.  A web app's package name is the last component of its name, i.e. the part after the last slash (`/`) character."
      ]
    },
    {
      "metadata": {
        "id": "T_AAKoqVs6ae",
        "colab_type": "code",
        "colab": {}
      },
      "cell_type": "code",
      "source": [
        "policy_name = enterprise_name + '/policies/policy1'\n",
        "\n",
        "# The web_app_name follows the format 'enterprises/LC012abc45/webApps/com.google.enterprise.webapp.xabcdef0123456789a'.\n",
        "# The package name begins after the last slash ('/') character:\n",
        "web_app_package_name = web_app_name.split('/')[-1]\n",
        "\n",
        "policy = {\n",
        "  'applications': [\n",
        "    { 'installType': 'FORCE_INSTALLED', 'packageName': 'com.android.chrome' },\n",
        "    { 'installType': 'FORCE_INSTALLED', 'packageName': web_app_package_name }\n",
        "  ],\n",
        "  'debuggingFeaturesAllowed': True\n",
        "}\n",
        "\n",
        "\n",
        "}\n",
        "# Write the new policy:\n",
        "result = androidmanagement.enterprises().policies().patch(\n",
        "    name=policy_name,\n",
        "    body=policy\n",
        ").execute()\n",
        "\n",
        "prettyprint(result)"
      ],
      "execution_count": 0,
      "outputs": []
    },
    {
      "metadata": {
        "id": "ufsD2hfkpVlg",
        "colab_type": "text"
      },
      "cell_type": "markdown",
      "source": [
        "# Updating a web app\n",
        "\n",
        "With the `enterprises.webApps.patch` call any aspect of a web app can be changed.\n",
        "\n",
        "E.g. here we change the title and display mode."
      ]
    },
    {
      "metadata": {
        "id": "qjundP3YqYNd",
        "colab_type": "code",
        "colab": {}
      },
      "cell_type": "code",
      "source": [
        "\n",
        "web_app = {\n",
        "    \"title\": \"Wikipedia: Donald Duck\",\n",
        "    \"startUrl\": \"https://en.m.wikipedia.org/wiki/Donald_Duck\",\n",
        "    \"displayMode\": \"STANDALONE\",\n",
        "    \"icons\": [\n",
        "      {\n",
        "        \"imageData\": icon_encoded_data\n",
        "      }\n",
        "    ]\n",
        "}\n",
        "\n",
        "result = androidmanagement.enterprises().webApps().patch(\n",
        "    name=web_app_name,\n",
        "    body=web_app\n",
        ").execute()\n",
        "\n",
        "prettyprint(result)\n"
      ],
      "execution_count": 0,
      "outputs": []
    },
    {
      "metadata": {
        "id": "bzG3CNW6WGbx",
        "colab_type": "text"
      },
      "cell_type": "markdown",
      "source": [
        "# Other API calls\n"
      ]
    },
    {
      "metadata": {
        "id": "tf6VE8xapJE4",
        "colab_type": "text"
      },
      "cell_type": "markdown",
      "source": [
        "## Listing web apps\n",
        "\n",
        "The `enterprises.webApps.list` method returns information about all web apps. \n",
        "\n",
        "This is also a handy way to recover the name (aka the id) of a web app should it be forgotten after creation."
      ]
    },
    {
      "metadata": {
        "id": "60oVxrxpg-Zr",
        "colab_type": "code",
        "colab": {}
      },
      "cell_type": "code",
      "source": [
        "webapps = androidmanagement.enterprises().webApps().list(\n",
        "    parent=enterprise_name\n",
        ").execute()\n",
        "\n",
        "prettyprint(webapps)"
      ],
      "execution_count": 0,
      "outputs": []
    },
    {
      "metadata": {
        "id": "OtWosifKk5VT",
        "colab_type": "text"
      },
      "cell_type": "markdown",
      "source": [
        "## Getting details of a single web app\n",
        "\n",
        "To get details about a single web app, the `enterprises.webApps.get` call is used.\n",
        "\n",
        "*Note* that data from the list call does not contain information about the icons. To get that, the get is is needed."
      ]
    },
    {
      "metadata": {
        "id": "xFbJGnNfiWls",
        "colab_type": "code",
        "colab": {}
      },
      "cell_type": "code",
      "source": [
        "webapp = androidmanagement.enterprises().webApps().get(\n",
        "    name=web_app_name\n",
        ").execute()\n",
        "\n",
        "prettyprint(webapp)"
      ],
      "execution_count": 0,
      "outputs": []
    },
    {
      "metadata": {
        "id": "J5pZM4ze29l3",
        "colab_type": "text"
      },
      "cell_type": "markdown",
      "source": [
        "# Web apps in the Play store\n",
        "\n",
        "Web apps are private apps, and are therefore only visible to the IT admins and users of the enterprise for which they are created. After logging into managed Google Play, IT admins can view the full store listing of a web app  at `https://play.google.com/work/apps/details?id=<packagename>`.\n",
        "\n",
        "For users web apps are just like regular Android apps and can see them in the Work store on their device.\n"
      ]
    },
    {
      "metadata": {
        "id": "11MnzWiW3lJW",
        "colab_type": "code",
        "colab": {}
      },
      "cell_type": "code",
      "source": [
        "print (\"Admins visit https://play.google.com/work/apps/details?id={}, users https://play.google.com/store/apps/details?id={} to see the Play store listing.\".format(web_app_package_name, web_app_package_name))"
      ],
      "execution_count": 0,
      "outputs": []
    }
  ]
}
