{
  "nbformat": 4,
  "nbformat_minor": 0,
  "metadata": {
    "colab": {
      "name": "Android Management API - Quickstart",
      "version": "0.3.2",
      "views": {},
      "default_view": {},
      "provenance": [
        {
          "file_id": "1R9nf30RYLpXNgJX_zGdcCJrCiKBiFCud",
          "timestamp": 1524481522317
        },
        {
          "file_id": "1LohMIfdk8YCDyWCa2IkJ2vT3LDJ8Zvu6",
          "timestamp": 1524322678017
        },
        {
          "file_id": "1MMempoZcWbEl0KmfPaynKaotN8dyUq-7",
          "timestamp": 1522322013887
        }
      ],
      "private_outputs": true,
      "collapsed_sections": [
        "lbI8y3v1G6OM"
      ]
    },
    "kernelspec": {
      "name": "python3",
      "display_name": "Python 3"
    }
  },
  "cells": [
    {
      "metadata": {
        "id": "lbI8y3v1G6OM",
        "colab_type": "text"
      },
      "cell_type": "markdown",
      "source": [
        "#### Copyright 2018 Google LLC.\n",
        "\n",
        "Licensed under the Apache License, Version 2.0 (the \"License\");"
      ]
    },
    {
      "metadata": {
        "id": "JxL-8R6KHRtK",
        "colab_type": "code",
        "colab": {
          "autoexec": {
            "startup": false,
            "wait_interval": 0
          }
        }
      },
      "cell_type": "code",
      "source": [
        "# Licensed under the Apache License, Version 2.0 (the \"License\");\n",
        "# you may not use this file except in compliance with the License.\n",
        "# You may obtain a copy of the License at\n",
        "\n",
        "# https://www.apache.org/licenses/LICENSE-2.0\n",
        "\n",
        "# Unless required by applicable law or agreed to in writing, software\n",
        "# distributed under the License is distributed on an \"AS IS\" BASIS,\n",
        "# WITHOUT WARRANTIES OR CONDITIONS OF ANY KIND, either express or implied.\n",
        "# See the License for the specific language governing permissions and\n",
        "# limitations under the License."
      ],
      "execution_count": 0,
      "outputs": []
    },
    {
      "metadata": {
        "id": "3Sf3qQL9CrIG",
        "colab_type": "text"
      },
      "cell_type": "markdown",
      "source": [
        "# Android Management API - Quickstart\n",
        "\n",
        "This notebook shows you how to get started with the Android Management API. Follow\n",
        "the steps below to enroll an enterprise, create a policy, and provision a device.\n",
        "\n",
        "In order to run this notebook, you need:\n",
        "\n",
        "*   A new or factory reset Android 6.0+ device.\n",
        "*   A Gmail account. This account cannot be associated with an existing enterprise.\n",
        "\n",
        "## Setup\n",
        "\n",
        "The base resource of your Android Management solution is a Google Cloud Platform project. All other resources (`Enterprises`, `Devices`, `Policies`, etc) belong to the project and the project controls access to these resources. A solution is typically associated with a single project, but you can create multiple projects if you want to restrict access to resources.\n",
        "\n",
        "You can create a project in the Google Cloud Console: \n",
        "\n",
        "1. [**Go to the Cloud Console**](https://console.cloud.google.com/project).\n",
        "2. Click **CREATE PROJECT**. \n",
        "3. Enter your project details, and then click **CREATE**.\n",
        "2. Take note of the **project ID** and **paste it in the cell below**, then **run the cell**.\n",
        "\n",
        "To run a cell: \n",
        "\n",
        "1. Click anywhere in the code block.\n",
        "2. Click the &#9654; button in the top-left of the code block.\n"
      ]
    },
    {
      "metadata": {
        "id": "orawejuC9GHB",
        "colab_type": "code",
        "colab": {
          "autoexec": {
            "startup": false,
            "wait_interval": 0
          }
        }
      },
      "cell_type": "code",
      "source": [
        "# Paste your project ID here.\n",
        "cloud_project_id = ''"
      ],
      "execution_count": 0,
      "outputs": []
    },
    {
      "metadata": {
        "id": "n3FaCG1wJAO7",
        "colab_type": "text"
      },
      "cell_type": "markdown",
      "source": [
        "To create and access resources, you need to authenticate with an account that has edit rights over your project. To start the authentication flow, **run the cell below**.\n",
        "\n",
        "When you build a server-based solution, you should create a\n",
        "[service account](https://developers.google.com/android/management/service-account)\n",
        "so you don't need to authorize the access every time."
      ]
    },
    {
      "metadata": {
        "id": "8myK1D6uy7HR",
        "colab_type": "code",
        "colab": {
          "autoexec": {
            "startup": false,
            "wait_interval": 0
          }
        }
      },
      "cell_type": "code",
      "source": [
        "from apiclient.discovery import build\n",
        "from google_auth_oauthlib.flow import InstalledAppFlow\n",
        "\n",
        "# This is a public OAuth config, you can use it to run this guide but please use\n",
        "# different credentials when building your own solution. \n",
        "CLIENT_CONFIG = {\n",
        "    'installed': {\n",
        "        'client_id':'882252295571-uvkkfelq073vq73bbq9cmr0rn8bt80ee.apps.googleusercontent.com',\n",
        "        'client_secret': 'S2QcoBe0jxNLUoqnpeksCLxI',\n",
        "        'auth_uri':'https://accounts.google.com/o/oauth2/auth',\n",
        "        'token_uri':'https://accounts.google.com/o/oauth2/token'\n",
        "    }\n",
        "}\n",
        "SCOPES = ['https://www.googleapis.com/auth/androidmanagement']\n",
        "\n",
        "# Run the OAuth flow.\n",
        "flow = InstalledAppFlow.from_client_config(CLIENT_CONFIG, SCOPES)\n",
        "credentials = flow.run_console()\n",
        "\n",
        "# Create the API client.\n",
        "androidmanagement = build('androidmanagement', 'v1', credentials=credentials)\n",
        "\n",
        "print('\\nAuthentication succeeded.')"
      ],
      "execution_count": 0,
      "outputs": []
    },
    {
      "metadata": {
        "id": "bsnuDBT7JQ9O",
        "colab_type": "text"
      },
      "cell_type": "markdown",
      "source": [
        "## Create an enterprise\n",
        "\n",
        "An **`Enterprise`** resource binds an organization to your Android Management solution.\n",
        "**`Devices`** and **`Policies`** both belong to an enterprise. Typically, a single enterprise\n",
        "resource is associated with a single organization. However, you can create multiple\n",
        "enterprises for the same organization based on their needs. For example, an\n",
        "organization may want separate enterprises for its different departments or regions.\n",
        "\n",
        "To create an enterprise you need a **Gmail account** that's not already associated with\n",
        "an enterprise.\n",
        "\n",
        "To start the enterprise creation flow, **run the cell below**. \n",
        "\n",
        "If you've already created an enterprise for this project, you can skip this step and enter your enterprise name in the next cell.  "
      ]
    },
    {
      "metadata": {
        "id": "TSeTmD7Y85NQ",
        "colab_type": "code",
        "colab": {
          "autoexec": {
            "startup": false,
            "wait_interval": 0
          }
        }
      },
      "cell_type": "code",
      "source": [
        "CALLBACK_URL = 'https://storage.googleapis.com/android-management-quick-start/enterprise_signup_callback.html'\n",
        "\n",
        "# Generate a signup URL where the enterprise admin can signup with a Gmail\n",
        "# account.\n",
        "signup_url = androidmanagement.signupUrls().create(\n",
        "    projectId=cloud_project_id,\n",
        "    callbackUrl=CALLBACK_URL\n",
        ").execute()\n",
        "\n",
        "print('Please visit this URL to create an enterprise:', signup_url['url'])\n",
        "\n",
        "enterprise_token = input('Enter the code: ')\n",
        "\n",
        "# Complete the creation of the enterprise and retrieve the enterprise name.\n",
        "enterprise = androidmanagement.enterprises().create(\n",
        "    projectId=cloud_project_id,\n",
        "    signupUrlName=signup_url['name'],\n",
        "    enterpriseToken=enterprise_token,\n",
        "    body={}\n",
        ").execute()\n",
        "\n",
        "enterprise_name = enterprise['name']\n",
        "\n",
        "print('\\nYour enterprise name is', enterprise_name)"
      ],
      "execution_count": 0,
      "outputs": []
    },
    {
      "metadata": {
        "id": "PnWwzIFyJXQS",
        "colab_type": "text"
      },
      "cell_type": "markdown",
      "source": [
        "Take note of the enterprise name so you can reuse it after you close this notebook.\n",
        "\n",
        "If you already have an enterprise, you can enter the enterprise name in the cell below and run the cell."
      ]
    },
    {
      "metadata": {
        "id": "R4rNq_O_BNBJ",
        "colab_type": "code",
        "colab": {
          "autoexec": {
            "startup": false,
            "wait_interval": 0
          }
        }
      },
      "cell_type": "code",
      "source": [
        "# Paste your enterprise name here.\n",
        "enterprise_name = ''"
      ],
      "execution_count": 0,
      "outputs": []
    },
    {
      "metadata": {
        "id": "urkbkf7zJgqN",
        "colab_type": "text"
      },
      "cell_type": "markdown",
      "source": [
        "## Create a policy\n",
        "\n",
        "A **`Policy`** is a group of settings that determine the behavior of a managed device\n",
        "and the apps installed on it. Each Policy resource represents a unique group of device\n",
        "and app settings and can be applied to one or more devices. Once a device is linked to\n",
        "a policy, any updates to the policy are automatically applied to the device.\n",
        "\n",
        "To create a basic policy, **run the cell below**. You'll see how to create more advanced policies later in this guide."
      ]
    },
    {
      "metadata": {
        "id": "pjHfDSb8BoBP",
        "colab_type": "code",
        "colab": {
          "autoexec": {
            "startup": false,
            "wait_interval": 0
          }
        }
      },
      "cell_type": "code",
      "source": [
        "policy_name = enterprise_name + '/policies/policy1'\n",
        "\n",
        "policy_json = '''\n",
        "{\n",
        "  \"applications\": [\n",
        "    {\n",
        "      \"packageName\": \"com.android.chrome\",\n",
        "      \"installType\": \"FORCE_INSTALLED\"\n",
        "    }\n",
        "  ],\n",
        "  \"debuggingFeaturesAllowed\": true\n",
        "}\n",
        "'''\n",
        "\n",
        "androidmanagement.enterprises().policies().patch(\n",
        "    name=policy_name,\n",
        "    body=json.loads(policy_json)\n",
        ").execute()"
      ],
      "execution_count": 0,
      "outputs": []
    },
    {
      "metadata": {
        "id": "SyxrXcIMJuDF",
        "colab_type": "text"
      },
      "cell_type": "markdown",
      "source": [
        "## Enroll a device using a QR code\n",
        "\n",
        "Device enrollment and provisioning refers to the process of binding a device to an enterprise, setting it up, and applying policy settings to the device. Before attempting to enroll and provision a device, ensure that the device:\n",
        "\n",
        "*   Is running Android 6.0 or above\n",
        "*   Is new or has been factory reset\n",
        "\n",
        "You need an enrollment token for each device that you want to enroll (you can use the same token for multiple devices), when creating a token you can specify a policy that will be applied to the device."
      ]
    },
    {
      "metadata": {
        "id": "JPYgBZSmCEil",
        "colab_type": "code",
        "colab": {
          "autoexec": {
            "startup": false,
            "wait_interval": 0
          }
        }
      },
      "cell_type": "code",
      "source": [
        "enrollment_token = androidmanagement.enterprises().enrollmentTokens().create(\n",
        "    parent=enterprise_name,\n",
        "    body={\"policyName\": policy_name}\n",
        ").execute()"
      ],
      "execution_count": 0,
      "outputs": []
    },
    {
      "metadata": {
        "id": "zmq6yvGsJ3pJ",
        "colab_type": "text"
      },
      "cell_type": "markdown",
      "source": [
        "After creating an enrollment token you can create a QR code that you will use to enroll devices."
      ]
    },
    {
      "metadata": {
        "id": "TTSgnpC9EScx",
        "colab_type": "code",
        "colab": {
          "autoexec": {
            "startup": false,
            "wait_interval": 0
          }
        }
      },
      "cell_type": "code",
      "source": [
        "from urllib.parse import urlencode\n",
        "\n",
        "image = {\n",
        "    'cht': 'qr',\n",
        "    'chs': '500x500',\n",
        "    'chl': enrollment_token['qrCode']\n",
        "}\n",
        "\n",
        "qrcode_url = 'https://chart.googleapis.com/chart?' + urlencode(image)\n",
        "\n",
        "print('Please visit this URL to scan the QR code:', qrcode_url)"
      ],
      "execution_count": 0,
      "outputs": []
    },
    {
      "metadata": {
        "id": "hcdeKcrIfM5H",
        "colab_type": "text"
      },
      "cell_type": "markdown",
      "source": [
        "You can now scan this QR code to set up a device.\n",
        "\n",
        "For devices running Android 7.0 or above:\n",
        "\n",
        "1.  Turn on a new or factory-reset device.\n",
        "2.  Tap the same spot on the welcome screen six times to enter QR code mode.\n",
        "3.  Connect to a WiFi network.\n",
        "4.  Scan the QR code.\n",
        "\n",
        "For devices running Android 6.0:\n",
        "\n",
        "1.  Turn on a new or factory-reset device.\n",
        "2.  Follow the setup wizard and enter your Wi-Fi details.\n",
        "3.  When prompted to sign in, enter **afw#setup**.\n",
        "4.  Tap Next, and then accept the installation of Android Device Policy.\n",
        "5.  Scan the QR code.\n",
        "\n",
        "## What's next?\n",
        "\n",
        "By now you should have a managed device configured with a basic policy, but there's\n",
        "much more you can do with the Android Management API.\n",
        "\n",
        "First, we recommend\n",
        "[**exploring the range of available policies**](https://developers.google.com/android/management/create-policy)\n",
        "to build the right policy for your needs.  \n",
        "\n",
        "Next, explore other features of the Android Management API:\n",
        "\n",
        "*   Learn how to [discover apps](https://developers.google.com/android/management/apps)\n",
        "*   Set up [Pub/Sub notifications](https://developers.google.com/android/management/notifications)\n",
        "\n",
        "Or start developing a server-based solution:\n",
        "\n",
        "*   Download the Android Management API client library for\n",
        "    [Java](https://developers.google.com/api-client-library/java/apis/androidmanagement/v1),\n",
        "    [.NET](https://developers.google.com/api-client-library/dotnet/apis/androidmanagement/v1),\n",
        "    [Python](https://developers.google.com/api-client-library/python/apis/androidmanagement/v1),\n",
        "    or [Ruby](https://developers.google.com/api-client-library/ruby/apis/androidmanagement/v1).\n",
        "*   Create a [service account](https://developers.google.com/android/management/service-account).\n",
        "\n"
      ]
    }
  ]
}